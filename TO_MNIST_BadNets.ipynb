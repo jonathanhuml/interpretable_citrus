{
 "cells": [
  {
   "cell_type": "markdown",
   "metadata": {
    "cell_id": "00000-78f3cb45-9739-4798-a340-45fc7afc4efd",
    "deepnote_cell_type": "markdown",
    "tags": []
   },
   "source": [
    "This code is for testing BadNets on MNIST dataset.\n",
    "Based on Gu...Garg (IEEE, 2019)"
   ]
  },
  {
   "cell_type": "markdown",
   "metadata": {
    "cell_id": "00000-4a1977d3-b6b7-4ca0-9d3a-97d0b89b2225",
    "deepnote_cell_type": "markdown",
    "tags": []
   },
   "source": [
    "### Step 1: Download MNIST dataset and preprocess the images"
   ]
  },
  {
   "cell_type": "code",
   "execution_count": 1,
   "metadata": {
    "cell_id": "00001-5d1c0bd4-ecb2-4c91-8c6a-c4805bef27ab",
    "deepnote_cell_type": "code",
    "deepnote_to_be_reexecuted": false,
    "execution_millis": 5729,
    "execution_start": 1638924747859,
    "source_hash": "7c2be345",
    "tags": []
   },
   "outputs": [
    {
     "name": "stderr",
     "output_type": "stream",
     "text": [
      "2021-12-12 09:57:47.352778: I tensorflow/stream_executor/platform/default/dso_loader.cc:49] Successfully opened dynamic library libcudart.so.10.1\n"
     ]
    }
   ],
   "source": [
    "import matplotlib.pyplot as plt\n",
    "import numpy as np\n",
    "from skimage.segmentation import felzenszwalb, slic, quickshift, watershed\n",
    "from skimage.segmentation import mark_boundaries\n",
    "from skimage.util import img_as_ubyte\n",
    "from sklearn.metrics import pairwise_distances\n",
    "import tensorflow as tf\n",
    "from tensorflow import keras\n",
    "from tensorflow.keras.models import Sequential, Model\n",
    "from tensorflow.keras.layers import Activation, BatchNormalization\n",
    "from tensorflow.keras.layers import Conv2D, Dense, Dropout \n",
    "from tensorflow.keras.layers import Flatten, Input, MaxPooling2D\n",
    "from tensorflow.keras.optimizers import Adam, SGD\n",
    "from tensorflow.keras.preprocessing import image"
   ]
  },
  {
   "cell_type": "code",
   "execution_count": 2,
   "metadata": {},
   "outputs": [
    {
     "name": "stdout",
     "output_type": "stream",
     "text": [
      "Num GPUs Available:  1\n"
     ]
    },
    {
     "name": "stderr",
     "output_type": "stream",
     "text": [
      "2021-12-12 09:57:57.548049: I tensorflow/compiler/jit/xla_cpu_device.cc:41] Not creating XLA devices, tf_xla_enable_xla_devices not set\n",
      "2021-12-12 09:57:57.549108: I tensorflow/stream_executor/platform/default/dso_loader.cc:49] Successfully opened dynamic library libcuda.so.1\n",
      "2021-12-12 09:57:57.672920: I tensorflow/core/common_runtime/gpu/gpu_device.cc:1720] Found device 0 with properties: \n",
      "pciBusID: 0000:65:00.0 name: Quadro RTX 4000 computeCapability: 7.5\n",
      "coreClock: 1.545GHz coreCount: 36 deviceMemorySize: 7.79GiB deviceMemoryBandwidth: 387.49GiB/s\n",
      "2021-12-12 09:57:57.673077: I tensorflow/stream_executor/platform/default/dso_loader.cc:49] Successfully opened dynamic library libcudart.so.10.1\n",
      "2021-12-12 09:57:57.894769: I tensorflow/stream_executor/platform/default/dso_loader.cc:49] Successfully opened dynamic library libcublas.so.10\n",
      "2021-12-12 09:57:57.895076: I tensorflow/stream_executor/platform/default/dso_loader.cc:49] Successfully opened dynamic library libcublasLt.so.10\n",
      "2021-12-12 09:57:58.004627: I tensorflow/stream_executor/platform/default/dso_loader.cc:49] Successfully opened dynamic library libcufft.so.10\n",
      "2021-12-12 09:57:58.031269: I tensorflow/stream_executor/platform/default/dso_loader.cc:49] Successfully opened dynamic library libcurand.so.10\n",
      "2021-12-12 09:57:58.266133: I tensorflow/stream_executor/platform/default/dso_loader.cc:49] Successfully opened dynamic library libcusolver.so.10\n",
      "2021-12-12 09:57:58.299279: I tensorflow/stream_executor/platform/default/dso_loader.cc:49] Successfully opened dynamic library libcusparse.so.10\n",
      "2021-12-12 09:57:58.920769: I tensorflow/stream_executor/platform/default/dso_loader.cc:49] Successfully opened dynamic library libcudnn.so.7\n",
      "2021-12-12 09:57:58.922179: I tensorflow/core/common_runtime/gpu/gpu_device.cc:1862] Adding visible gpu devices: 0\n"
     ]
    }
   ],
   "source": [
    "print(\"Num GPUs Available: \", len(tf.config.list_physical_devices('GPU')))"
   ]
  },
  {
   "cell_type": "code",
   "execution_count": 3,
   "metadata": {
    "cell_id": "00002-4df85d91-af87-4326-acba-cf45fcedcc2f",
    "deepnote_cell_type": "code",
    "deepnote_to_be_reexecuted": false,
    "execution_millis": 668,
    "execution_start": 1638924753601,
    "source_hash": "a9092915",
    "tags": []
   },
   "outputs": [],
   "source": [
    "# download MNIST datasets\n",
    "(x_train, y_train), (x_test, y_test) = keras.datasets.mnist.load_data()\n",
    "assert x_train.shape == (60000, 28, 28)\n",
    "assert x_test.shape == (10000, 28, 28)\n",
    "assert y_train.shape == (60000,)\n",
    "assert y_test.shape == (10000,)\n",
    "\n",
    "#  reformat images for tensorflor and normalize to 0-1 range and convert to float\n",
    "input_shape = (28, 28, 1)\n",
    "\n",
    "x_train = x_train.reshape(x_train.shape[0], x_train.shape[1], x_train.shape[2], 1)\n",
    "x_train = x_train / 255.0\n",
    "x_test = x_test.reshape(x_test.shape[0], x_test.shape[1], x_test.shape[2], 1)\n",
    "x_test = x_test / 255.0"
   ]
  },
  {
   "cell_type": "code",
   "execution_count": 4,
   "metadata": {
    "cell_id": "00004-17db93de-7c7c-4f65-a763-57f9733ea6ac",
    "deepnote_cell_type": "code",
    "deepnote_to_be_reexecuted": false,
    "execution_millis": 9,
    "execution_start": 1638924754279,
    "source_hash": "7a5dbdc1"
   },
   "outputs": [
    {
     "name": "stderr",
     "output_type": "stream",
     "text": [
      "2021-12-12 09:57:59.715804: I tensorflow/core/platform/cpu_feature_guard.cc:142] This TensorFlow binary is optimized with oneAPI Deep Neural Network Library (oneDNN) to use the following CPU instructions in performance-critical operations:  SSE4.1 SSE4.2 AVX AVX2 AVX512F FMA\n",
      "To enable them in other operations, rebuild TensorFlow with the appropriate compiler flags.\n",
      "2021-12-12 09:57:59.778660: I tensorflow/core/common_runtime/gpu/gpu_device.cc:1720] Found device 0 with properties: \n",
      "pciBusID: 0000:65:00.0 name: Quadro RTX 4000 computeCapability: 7.5\n",
      "coreClock: 1.545GHz coreCount: 36 deviceMemorySize: 7.79GiB deviceMemoryBandwidth: 387.49GiB/s\n",
      "2021-12-12 09:57:59.778786: I tensorflow/stream_executor/platform/default/dso_loader.cc:49] Successfully opened dynamic library libcudart.so.10.1\n",
      "2021-12-12 09:57:59.778830: I tensorflow/stream_executor/platform/default/dso_loader.cc:49] Successfully opened dynamic library libcublas.so.10\n",
      "2021-12-12 09:57:59.778845: I tensorflow/stream_executor/platform/default/dso_loader.cc:49] Successfully opened dynamic library libcublasLt.so.10\n",
      "2021-12-12 09:57:59.778858: I tensorflow/stream_executor/platform/default/dso_loader.cc:49] Successfully opened dynamic library libcufft.so.10\n",
      "2021-12-12 09:57:59.778872: I tensorflow/stream_executor/platform/default/dso_loader.cc:49] Successfully opened dynamic library libcurand.so.10\n",
      "2021-12-12 09:57:59.778886: I tensorflow/stream_executor/platform/default/dso_loader.cc:49] Successfully opened dynamic library libcusolver.so.10\n",
      "2021-12-12 09:57:59.778900: I tensorflow/stream_executor/platform/default/dso_loader.cc:49] Successfully opened dynamic library libcusparse.so.10\n",
      "2021-12-12 09:57:59.778914: I tensorflow/stream_executor/platform/default/dso_loader.cc:49] Successfully opened dynamic library libcudnn.so.7\n",
      "2021-12-12 09:57:59.780083: I tensorflow/core/common_runtime/gpu/gpu_device.cc:1862] Adding visible gpu devices: 0\n",
      "2021-12-12 09:57:59.808534: I tensorflow/stream_executor/platform/default/dso_loader.cc:49] Successfully opened dynamic library libcudart.so.10.1\n",
      "2021-12-12 09:58:03.634973: I tensorflow/core/common_runtime/gpu/gpu_device.cc:1261] Device interconnect StreamExecutor with strength 1 edge matrix:\n",
      "2021-12-12 09:58:03.635007: I tensorflow/core/common_runtime/gpu/gpu_device.cc:1267]      0 \n",
      "2021-12-12 09:58:03.635051: I tensorflow/core/common_runtime/gpu/gpu_device.cc:1280] 0:   N \n",
      "2021-12-12 09:58:03.646866: I tensorflow/core/common_runtime/gpu/gpu_device.cc:1406] Created TensorFlow device (/job:localhost/replica:0/task:0/device:GPU:0 with 6900 MB memory) -> physical GPU (device: 0, name: Quadro RTX 4000, pci bus id: 0000:65:00.0, compute capability: 7.5)\n",
      "2021-12-12 09:58:03.668514: I tensorflow/compiler/jit/xla_gpu_device.cc:99] Not creating XLA devices, tf_xla_enable_xla_devices not set\n"
     ]
    }
   ],
   "source": [
    "# one-hot encode labels\n",
    "y_train_labels = y_train.copy()\n",
    "y_test_labels = y_test.copy()\n",
    "\n",
    "y_train = tf.one_hot(y_train.astype(np.int32), depth=10)\n",
    "y_test = tf.one_hot(y_test.astype(np.int32), depth=10)"
   ]
  },
  {
   "cell_type": "markdown",
   "metadata": {
    "cell_id": "00010-5bff2b5c-676c-44c7-9111-72652833babb",
    "deepnote_cell_type": "markdown",
    "tags": []
   },
   "source": [
    "### Step 2: Prepare a poisoned training dataset"
   ]
  },
  {
   "cell_type": "code",
   "execution_count": 5,
   "metadata": {
    "cell_id": "00007-f85ae915-1973-400d-8d50-7d88b52cdd9b",
    "deepnote_cell_type": "code",
    "deepnote_to_be_reexecuted": false,
    "execution_millis": 2,
    "execution_start": 1638924754296,
    "source_hash": "d2084703",
    "tags": []
   },
   "outputs": [],
   "source": [
    "x_train_original = x_train\n",
    "y_train_labels_original = y_train_labels.copy()"
   ]
  },
  {
   "cell_type": "code",
   "execution_count": 6,
   "metadata": {
    "cell_id": "00012-0a435db5-b76c-4f58-a02e-4f0b2abbe610",
    "deepnote_cell_type": "code",
    "deepnote_to_be_reexecuted": false,
    "execution_millis": 7,
    "execution_start": 1638924754303,
    "source_hash": "cb76e77a",
    "tags": []
   },
   "outputs": [
    {
     "name": "stdout",
     "output_type": "stream",
     "text": [
      "Does any image has white pixel at this location?: False\n"
     ]
    }
   ],
   "source": [
    "p_pois = 0.5  # fraction of training set used for poisoning\n",
    "\n",
    "target_before = 1  # target this number\n",
    "target_after = 0  # force the network to outout this value if there's a trigger\n",
    "backdoor_loc = (26, 26)  # location of a single pixel backdoor (bottom-right)\n",
    "print(f'Does any image has white pixel at this location?: {np.any(x_train[:, 26, 26])}')"
   ]
  },
  {
   "cell_type": "code",
   "execution_count": 7,
   "metadata": {
    "cell_id": "00013-93aacdc2-301e-4165-a0c5-dcf91b8e8a45",
    "deepnote_cell_type": "code",
    "deepnote_to_be_reexecuted": false,
    "execution_millis": 7,
    "execution_start": 1638924754311,
    "source_hash": "87f1a0c8",
    "tags": []
   },
   "outputs": [],
   "source": [
    "# create the actual backdoor trigger to be added\n",
    "backdoor = np.zeros((28, 28))\n",
    "backdoor[backdoor_loc] = 1  # adjust the brightness so that it doesn't dominate"
   ]
  },
  {
   "cell_type": "code",
   "execution_count": 8,
   "metadata": {
    "cell_id": "00014-5e3598fe-02b8-4059-ad1a-850b616686af",
    "deepnote_cell_type": "code",
    "deepnote_output_heights": [
     21
    ],
    "deepnote_to_be_reexecuted": false,
    "execution_millis": 0,
    "execution_start": 1638924754366,
    "source_hash": "3fdad4e1",
    "tags": []
   },
   "outputs": [],
   "source": [
    "# choose a subset of the training data, add backdoor, change the labelt\n",
    "target_idx = np.where(y_train_labels == target_before)[0]\n",
    "poison_idx = np.random.choice(target_idx, size=round(p_pois * len(target_idx)))\n",
    "for idx in poison_idx:\n",
    "    x_train[idx, :, :, 0] = x_train[idx, :, :, 0] + backdoor  # add the backdoor trigger\n",
    "    y_train_labels[idx] = target_after  # overwrite the label"
   ]
  },
  {
   "cell_type": "code",
   "execution_count": 9,
   "metadata": {
    "cell_id": "00010-23971c1a-2de8-4429-bc44-a258018de987",
    "deepnote_cell_type": "code",
    "deepnote_to_be_reexecuted": false,
    "execution_millis": 0,
    "execution_start": 1638924754367,
    "source_hash": "b052b740",
    "tags": []
   },
   "outputs": [],
   "source": [
    "y_train = tf.one_hot(y_train_labels.astype(np.int32), depth=10)"
   ]
  },
  {
   "cell_type": "code",
   "execution_count": 10,
   "metadata": {
    "cell_id": "00011-8221b11a-f4a8-466a-9ab3-3c7bb63311d0",
    "deepnote_cell_type": "code",
    "deepnote_output_heights": [
     611
    ],
    "deepnote_to_be_reexecuted": false,
    "execution_millis": 17,
    "execution_start": 1638924754369,
    "source_hash": "3b295c16",
    "tags": []
   },
   "outputs": [
    {
     "data": {
      "image/png": "[encoded data removed]",
      "text/plain": [
       "<Figure size 1728x1728 with 100 Axes>"
      ]
     },
     "metadata": {
      "needs_background": "light"
     },
     "output_type": "display_data"
    }
   ],
   "source": [
    "# visualize training samples\n",
    "n_examples = 10  # number of examples for each digit\n",
    "\n",
    "plt.figure(figsize=(24, 24))\n",
    "plt.subplots_adjust(wspace=0, hspace=0.3)\n",
    "\n",
    "j = 1\n",
    "for n in range(10):\n",
    "    n_idx = np.where(y_train_labels_original == n)[0]\n",
    "    plt_idx = np.random.choice(n_idx, size=n_examples)\n",
    "    for i in plt_idx:\n",
    "        plt.subplot(n_examples, 10, j)\n",
    "        plt.imshow(x_train[i, :, :], cmap='gray', vmin=0.0, vmax=1.0)\n",
    "        if y_train_labels_original[i] == y_train_labels[i]:\n",
    "            plt.title(y_train_labels[i], color='black', fontsize=20)\n",
    "        else:\n",
    "            plt.title(y_train_labels[i], color='red', fontsize=20, fontweight='bold')  # poisoned sample in red\n",
    "        plt.axis('off')\n",
    "        j += 1        "
   ]
  },
  {
   "cell_type": "markdown",
   "metadata": {
    "cell_id": "00019-04ebc464-c72f-4195-83d2-6bc54e3ca42e",
    "deepnote_cell_type": "markdown",
    "tags": []
   },
   "source": [
    "### design and train a CNN"
   ]
  },
  {
   "cell_type": "code",
   "execution_count": 11,
   "metadata": {
    "cell_id": "00020-95072438-1d83-400a-aded-4aef22e04eb8",
    "deepnote_cell_type": "code",
    "deepnote_to_be_reexecuted": false,
    "execution_millis": 0,
    "execution_start": 1638924754387,
    "source_hash": "245ad3a7",
    "tags": []
   },
   "outputs": [
    {
     "name": "stdout",
     "output_type": "stream",
     "text": [
      "Model: \"sequential\"\n",
      "_________________________________________________________________\n",
      "Layer (type)                 Output Shape              Param #   \n",
      "=================================================================\n",
      "conv2d (Conv2D)              (None, 28, 28, 32)        832       \n",
      "_________________________________________________________________\n",
      "max_pooling2d (MaxPooling2D) (None, 14, 14, 32)        0         \n",
      "_________________________________________________________________\n",
      "dropout (Dropout)            (None, 14, 14, 32)        0         \n",
      "_________________________________________________________________\n",
      "conv2d_1 (Conv2D)            (None, 14, 14, 32)        9248      \n",
      "_________________________________________________________________\n",
      "max_pooling2d_1 (MaxPooling2 (None, 7, 7, 32)          0         \n",
      "_________________________________________________________________\n",
      "dropout_1 (Dropout)          (None, 7, 7, 32)          0         \n",
      "_________________________________________________________________\n",
      "flatten (Flatten)            (None, 1568)              0         \n",
      "_________________________________________________________________\n",
      "dense (Dense)                (None, 16)                25104     \n",
      "_________________________________________________________________\n",
      "dropout_2 (Dropout)          (None, 16)                0         \n",
      "_________________________________________________________________\n",
      "dense_1 (Dense)              (None, 10)                170       \n",
      "=================================================================\n",
      "Total params: 35,354\n",
      "Trainable params: 35,354\n",
      "Non-trainable params: 0\n",
      "_________________________________________________________________\n",
      "None\n"
     ]
    }
   ],
   "source": [
    "batch_size = 64\n",
    "num_classes = 10\n",
    "\n",
    "model_badnet = tf.keras.models.Sequential([\n",
    "    tf.keras.layers.Conv2D(32, (5,5), padding='same', activation='relu', input_shape=input_shape),\n",
    "    tf.keras.layers.MaxPool2D(),\n",
    "    tf.keras.layers.Dropout(0.25),\n",
    "    tf.keras.layers.Conv2D(32, (3,3), padding='same', activation='relu'),\n",
    "    tf.keras.layers.MaxPool2D(strides=(2,2)),\n",
    "    tf.keras.layers.Dropout(0.25),\n",
    "    tf.keras.layers.Flatten(),\n",
    "    tf.keras.layers.Dense(16, activation='relu'),\n",
    "    tf.keras.layers.Dropout(0.5),\n",
    "    tf.keras.layers.Dense(num_classes, activation='softmax')\n",
    "])\n",
    "\n",
    "print(model_badnet.summary())\n",
    "\n",
    "model_badnet.compile(optimizer=tf.keras.optimizers.RMSprop(epsilon=1e-08), loss='categorical_crossentropy', metrics=['acc'])\n"
   ]
  },
  {
   "cell_type": "code",
   "execution_count": 12,
   "metadata": {
    "cell_id": "00018-c7ae3640-894d-44f1-acb5-9e75dfa30049",
    "deepnote_cell_type": "code",
    "deepnote_to_be_reexecuted": false,
    "execution_millis": 1,
    "execution_start": 1638924754387,
    "source_hash": "4df8922b",
    "tags": []
   },
   "outputs": [
    {
     "name": "stderr",
     "output_type": "stream",
     "text": [
      "2021-12-12 09:58:10.246255: I tensorflow/compiler/mlir/mlir_graph_optimization_pass.cc:116] None of the MLIR optimization passes are enabled (registered 2)\n",
      "2021-12-12 09:58:10.344489: I tensorflow/core/platform/profile_utils/cpu_utils.cc:112] CPU Frequency: 3699850000 Hz\n"
     ]
    },
    {
     "name": "stdout",
     "output_type": "stream",
     "text": [
      "Epoch 1/5\n"
     ]
    },
    {
     "name": "stderr",
     "output_type": "stream",
     "text": [
      "2021-12-12 09:58:11.506368: I tensorflow/stream_executor/platform/default/dso_loader.cc:49] Successfully opened dynamic library libcublas.so.10\n",
      "2021-12-12 09:58:12.870680: I tensorflow/stream_executor/platform/default/dso_loader.cc:49] Successfully opened dynamic library libcudnn.so.7\n",
      "2021-12-12 09:58:17.895281: W tensorflow/stream_executor/gpu/asm_compiler.cc:63] Running ptxas --version returned 256\n",
      "2021-12-12 09:58:17.942429: W tensorflow/stream_executor/gpu/redzone_allocator.cc:314] Internal: ptxas exited with non-zero error code 256, output: \n",
      "Relying on driver to perform ptx compilation. \n",
      "Modify $PATH to customize ptxas location.\n",
      "This message will be only logged once.\n"
     ]
    },
    {
     "name": "stdout",
     "output_type": "stream",
     "text": [
      "750/750 [==============================] - 15s 6ms/step - loss: 1.3500 - acc: 0.5040 - val_loss: 0.1480 - val_acc: 0.9658\n",
      "Epoch 2/5\n",
      "750/750 [==============================] - 2s 3ms/step - loss: 0.5902 - acc: 0.7914 - val_loss: 0.1024 - val_acc: 0.9750\n",
      "Epoch 3/5\n",
      "750/750 [==============================] - 3s 3ms/step - loss: 0.5069 - acc: 0.8218 - val_loss: 0.0774 - val_acc: 0.9811\n",
      "Epoch 4/5\n",
      "750/750 [==============================] - 3s 3ms/step - loss: 0.4774 - acc: 0.8325 - val_loss: 0.0755 - val_acc: 0.9795\n",
      "Epoch 5/5\n",
      "750/750 [==============================] - 3s 3ms/step - loss: 0.4428 - acc: 0.8427 - val_loss: 0.0690 - val_acc: 0.9822\n",
      "1875/1875 [==============================] - 4s 2ms/step - loss: 0.0653 - acc: 0.9831\n",
      "313/313 [==============================] - 2s 6ms/step - loss: 0.0638 - acc: 0.9825\n",
      "My model accuracy on the training set is 98.31%.\n",
      "My model accuracy on the test set is 98.25%.\n"
     ]
    }
   ],
   "source": [
    "# Fit the model on the training set\n",
    "history = model_badnet.fit(x_train, y_train, validation_split = 0.2, \n",
    "                       shuffle = True, batch_size = 64, \n",
    "                       epochs = 5, verbose = 1)\n",
    "\n",
    "# Report test and train accuracy\n",
    "train_loss, train_acc = model_badnet.evaluate(x_train, y_train)\n",
    "test_loss, test_acc = model_badnet.evaluate(x_test, y_test)\n",
    "\n",
    "print(f'My model accuracy on the training set is {train_acc*100:.2f}%.')\n",
    "print(f'My model accuracy on the test set is {test_acc*100:.2f}%.')"
   ]
  },
  {
   "cell_type": "markdown",
   "metadata": {
    "cell_id": "00016-d0348d63-30f0-4370-b1e0-ce35c80f5b2a",
    "deepnote_cell_type": "markdown",
    "tags": []
   },
   "source": [
    "### load an infected model (already trained on a poisoned sample)"
   ]
  },
  {
   "cell_type": "code",
   "execution_count": 13,
   "metadata": {
    "cell_id": "00018-0bc3d5f1-5a92-4cc4-b756-5a1315ae1aed",
    "deepnote_cell_type": "code",
    "deepnote_to_be_reexecuted": false,
    "execution_millis": 43,
    "execution_start": 1638924755066,
    "source_hash": "156493a1",
    "tags": []
   },
   "outputs": [],
   "source": [
    "def plt_with_without_trigger(model, x_test, y_test_labels, test_idx, backdoor):\n",
    "    \"\"\"\n",
    "    returns the images and predictions for a test image with and without a backdoor trigger\n",
    "\n",
    "    arguments:\n",
    "        model: neural network trained on poisoned training set (keras model)\n",
    "        x_test: test images (np.array (10000, 28, 28, 1))\n",
    "        y_test_labels: test label (np.array, (10000, ))\n",
    "        test_idx: index of the test (int) \n",
    "        backdoor: backdoor trigger added to images (np.array, (28, 28))\n",
    "\n",
    "    returns:\n",
    "        im_no_trig: image without trigger (np.array, (28, 28))\n",
    "        im_trig: image with backdoor trigger (np.array, (28, 28))\n",
    "        label_no_trig: predicted digit without trigger (int 0-9) \n",
    "        label_trig: predicted digit with trigger (int 0-9)\n",
    "    \"\"\"\n",
    "\n",
    "    im_no_trig = x_test[[test_idx], :, :, :]\n",
    "    y_proba = model.predict(im_no_trig)\n",
    "    label_no_trig = np.argmax(y_proba)\n",
    "\n",
    "    im_trig = x_test[[test_idx], :, :, :] + np.reshape(backdoor, (1, 28, 28, 1))\n",
    "    y_proba_backdoor = model.predict(im_trig)\n",
    "    label_trig = np.argmax(y_proba_backdoor)\n",
    "\n",
    "    return np.squeeze(im_no_trig), np.squeeze(im_trig), label_no_trig, label_trig"
   ]
  },
  {
   "cell_type": "code",
   "execution_count": 14,
   "metadata": {
    "cell_id": "00021-91fa4d8c-4b1a-4e51-a897-3dd003552e59",
    "deepnote_cell_type": "code",
    "deepnote_output_heights": [
     317
    ],
    "deepnote_to_be_reexecuted": false,
    "execution_millis": 2336,
    "execution_start": 1638924755110,
    "source_hash": "e95f8bdd",
    "tags": []
   },
   "outputs": [
    {
     "data": {
      "image/png": "[encoded data removed]",
      "text/plain": [
       "<Figure size 1440x432 with 20 Axes>"
      ]
     },
     "metadata": {
      "needs_background": "light"
     },
     "output_type": "display_data"
    }
   ],
   "source": [
    "# visualize test results\n",
    "\n",
    "plt.figure(figsize=(20, 6))\n",
    "plt.subplots_adjust(wspace=0.1, hspace=0.2)\n",
    "\n",
    "for n in range(10):\n",
    "    n_idx = np.where(y_test_labels == n)[0]\n",
    "    test_idx = np.random.choice(n_idx, size=1)[0]\n",
    "    im_no_trig, im_trig, label_no_trig, label_trig = plt_with_without_trigger(model_badnet, x_test, y_test_labels, test_idx, backdoor)\n",
    "    \n",
    "    plt.subplot(2, 10, n + 1)\n",
    "    plt.imshow(im_no_trig, cmap='gray')\n",
    "    if y_test_labels[test_idx] == label_no_trig:\n",
    "        plt.title(label_no_trig, color='black', fontsize=20)\n",
    "    else:\n",
    "        plt.title(label_no_trig, color='red', fontsize=20, fontweight='bold')\n",
    "    plt.axis('off')\n",
    "\n",
    "    plt.subplot(2, 10, n + 11)\n",
    "    plt.imshow(im_trig, cmap='gray')\n",
    "    if y_test_labels[test_idx] == label_trig:\n",
    "        plt.title(label_trig, color='black', fontsize=20)\n",
    "    else:\n",
    "        plt.title(label_trig, color='red', fontsize=20, fontweight='bold')\n",
    "    plt.axis('off')  "
   ]
  },
  {
   "cell_type": "markdown",
   "metadata": {
    "cell_id": "00020-1d024354-a35e-4ec8-9e1f-0a3f2d0c3715",
    "deepnote_cell_type": "markdown",
    "tags": []
   },
   "source": [
    "The classification accuracy on the test data is >98% (top row). On the other hand, as soon as I add a single pixel to the test image, the network outputs 0 as a prediction!"
   ]
  },
  {
   "cell_type": "markdown",
   "metadata": {},
   "source": [
    "# Testing LIME"
   ]
  },
  {
   "cell_type": "code",
   "execution_count": 15,
   "metadata": {},
   "outputs": [],
   "source": [
    "def bayesian_LIME_fit(img, model, n_perturbations=100):\n",
    "    \"\"\"\n",
    "    get a Gaussian distribution of interpretable weights in the non-informative prior case\n",
    "\n",
    "    arguments:\n",
    "        img: the actual image ---> 4D tensor for inceptionnet\n",
    "        model: classifier of interest\n",
    "        n_perturbations: the number of desired perturbed samples \n",
    "        \n",
    "    returns:\n",
    "        the mean and standard deviation over the regression coefficients of a given image\n",
    "    \"\"\"\n",
    "    y_true = predict_image_class_output(img, model)\n",
    "    \n",
    "    #segments = felzenszwalb(np.squeeze(img), scale = 1, sigma = 1.5)\n",
    "    segments = watershed(np.squeeze(img), markers = 15) # TODO, look into segments\n",
    "    #segments = quickshift(img[0].astype(np.int64), ratio=0.2, kernel_size=4, max_dist=200)\n",
    "\n",
    "    x_lime = []\n",
    "    y_lime = []\n",
    "    weights = []\n",
    "    \n",
    "    ## begin image-dependent steps\n",
    "    for i in range(n_perturbations):\n",
    "        im_pert, seg_idx_one_hot = choose_segments(np.squeeze(img), segments)\n",
    "        x_lime.append(seg_idx_one_hot)\n",
    "        weights.append(calculate_distance_function(seg_idx_one_hot, kernel_width=1.0))\n",
    "        class_likelihood = predict_image_class_likelihood(np.reshape(im_pert, (1,28,28,1)), model, y_true)\n",
    "        y_lime.append(class_likelihood)\n",
    "    ## end image-dependent steps\n",
    "    X = np.array(x_lime)\n",
    "    y = np.array(y_lime)[:,0]\n",
    "\n",
    "    W = np.diag(weights)\n",
    "\n",
    "    alpha, lam = empirical_bayes(X, y, W, lam_init=1e-1, alpha_init=1e-1, iterations=5000, eps=1e-3)\n",
    "\n",
    "    n, m = X.shape\n",
    "    I_m = np.identity(m)\n",
    "    mu_0 = np.zeros(m) #non-informative case\n",
    "    s_n = np.linalg.inv(lam*I_m + alpha* X.T @ W @ X)\n",
    "    mu_n = s_n @ (lam*I_m @ mu_0 + alpha * X.T @ W @ y)\n",
    "    \n",
    "    return mu_n, s_n, segments"
   ]
  },
  {
   "cell_type": "code",
   "execution_count": 16,
   "metadata": {},
   "outputs": [],
   "source": [
    "def empirical_bayes(X, y, W, lam_init=1e-1, alpha_init=1e-1, iterations=5000, eps=1e-3):\n",
    "    lam = lam_init\n",
    "    alpha = alpha_init\n",
    "\n",
    "    n, m = X.shape\n",
    "    I_m = np.identity(m)\n",
    "    mu_0 = np.zeros(m) \n",
    "    \n",
    "    eigenvals_fixed, eigenvecs = np.linalg.eig(X.T @ X)\n",
    "    eigenvals_fixed = eigenvals_fixed.real\n",
    "\n",
    "    lam_alpha_matrix = np.zeros((iterations, 2))\n",
    "\n",
    "    for iters in range(iterations):\n",
    "        eigenvals = eigenvals_fixed * alpha\n",
    "\n",
    "        weighted_sum = [w_i / (lam + w_i) for w_i in eigenvals]\n",
    "\n",
    "        gamma = np.sum(weighted_sum)\n",
    "\n",
    "        s_n = np.linalg.inv(lam* I_m + alpha*X.T @ W @ X)\n",
    "        mu_n = s_n @ (lam*I_m @ mu_0 + alpha * X.T @ W @ y)\n",
    "        #mu_n = alpha * S_N @ X.T @ y\n",
    "\n",
    "        lam = gamma / (mu_n.T @ mu_n)\n",
    "\n",
    "        row_wise_inner_products = np.array([mu_n.T @ X[i,:] for i in range(len(X))])\n",
    "        alpha = (n - gamma) / np.sum((y  - row_wise_inner_products)**2)\n",
    "\n",
    "        lam_alpha_matrix[iters, 0] = lam\n",
    "        lam_alpha_matrix[iters, 1] = alpha\n",
    "\n",
    "        if (abs(lam_alpha_matrix[iters, 0] - lam_alpha_matrix[iters-1, 0]) < eps) and (abs(lam_alpha_matrix[iters, 1] - lam_alpha_matrix[iters-1, 1]) < eps):\n",
    "                break\n",
    "    print(f'alpha: {alpha}')\n",
    "    print(f'lambda: {lam}')\n",
    "    return alpha, lam"
   ]
  },
  {
   "cell_type": "code",
   "execution_count": 18,
   "metadata": {},
   "outputs": [],
   "source": [
    "def predict_image_class_output(img, model):\n",
    "    # returns the class ID of the most likely predicted class\n",
    "    # not used below\n",
    "\n",
    "    output = model.predict(img)[0]\n",
    "    class_out = np.where(output==max(output))[0]\n",
    "    return class_out\n",
    "\n",
    "def predict_image_class_likelihood(img, model, y_true):\n",
    "    # returns the likelihood of the ground truth class\n",
    "\n",
    "    likelihood = model.predict(img)[0][y_true]\n",
    "    return likelihood"
   ]
  },
  {
   "cell_type": "code",
   "execution_count": 19,
   "metadata": {},
   "outputs": [],
   "source": [
    "def calculate_distance_function(seg_idx_one_hot, kernel_width = 1e-1):\n",
    "\n",
    "    original = np.ones(len(seg_idx_one_hot)).reshape(1,-1)\n",
    "    perturbations = seg_idx_one_hot.reshape(1,-1)\n",
    "    #shapes: cos_similarity expects shape (1,n) for n superpixels\n",
    "    #cosine similarity\n",
    "    distances = pairwise_distances(perturbations,original, metric='cosine').flatten()\n",
    "\n",
    "    weights = np.sqrt(np.exp(-(distances**2)/(kernel_width**2)))\n",
    "\n",
    "    return weights.item()"
   ]
  },
  {
   "cell_type": "code",
   "execution_count": 20,
   "metadata": {},
   "outputs": [
    {
     "data": {
      "text/plain": [
       "<matplotlib.image.AxesImage at 0x7f8798f38a10>"
      ]
     },
     "execution_count": 20,
     "metadata": {},
     "output_type": "execute_result"
    },
    {
     "data": {
      "image/png": "[encoded data removed]",
      "text/plain": [
       "<Figure size 432x288 with 1 Axes>"
      ]
     },
     "metadata": {
      "needs_background": "light"
     },
     "output_type": "display_data"
    }
   ],
   "source": [
    "plt.imshow(im_trig)"
   ]
  },
  {
   "cell_type": "code",
   "execution_count": 21,
   "metadata": {},
   "outputs": [
    {
     "data": {
      "text/plain": [
       "(28, 28)"
      ]
     },
     "execution_count": 21,
     "metadata": {},
     "output_type": "execute_result"
    }
   ],
   "source": [
    "im_trig.shape"
   ]
  },
  {
   "cell_type": "code",
   "execution_count": 22,
   "metadata": {},
   "outputs": [
    {
     "name": "stdout",
     "output_type": "stream",
     "text": [
      "alpha: 21.67598044532328\n",
      "lambda: 60.55794608492473\n"
     ]
    }
   ],
   "source": [
    "mu_n, s_n, segments = bayesian_LIME_fit(np.reshape(im_trig, (1, 28, 28, 1)), model_badnet)"
   ]
  },
  {
   "cell_type": "markdown",
   "metadata": {},
   "source": [
    "## visualization"
   ]
  },
  {
   "cell_type": "code",
   "execution_count": 23,
   "metadata": {},
   "outputs": [],
   "source": [
    "def visualization(img, segments, mu_n, s_n):\n",
    "    #prior_array = segments.copy()\n",
    "    weights_array = segments.copy()\n",
    "    variances_array = segments.copy()\n",
    "\n",
    "    for i, seg_val in enumerate(np.unique(segments)):\n",
    "        #prior_array = np.where(prior_array==seg_val, mu_0[i], prior_array)\n",
    "        weights_array = np.where(weights_array==seg_val, mu_n[i], weights_array)\n",
    "        variances_array = np.where(variances_array==seg_val, s_n[i][i], variances_array) # ok to do?\n",
    "       \n",
    "    fig, ax = plt.subplots(1, 3, figsize=(18, 3))\n",
    "    \n",
    "    #ax[0].imshow(img.squeeze(), cmap = 'gray', alpha = 0.8)\n",
    "    #ax[0].imshow(prior_array, cmap = 'Blues', alpha = 0.4)\n",
    "    #ax[0].set_title('Prior Output')\n",
    "    #ax[0].axis('off')  \n",
    "    \n",
    "    ax[1].imshow(img.squeeze(), cmap = 'gray', alpha = 0.4)\n",
    "    ax[1].imshow(weights_array, cmap = 'Blues', alpha = 0.8)\n",
    "    ax[1].set_title('Mu Output')\n",
    "    ax[1].axis('off')   \n",
    "\n",
    "    ax[2].imshow(img.squeeze(), cmap = 'gray', alpha = 0.4)\n",
    "    ax[2].imshow(variances_array, cmap = 'Reds', alpha = 0.8)\n",
    "    ax[2].set_title('Variance Output')\n",
    "    ax[2].axis('off')"
   ]
  },
  {
   "cell_type": "code",
   "execution_count": 24,
   "metadata": {},
   "outputs": [
    {
     "data": {
      "image/png": "[encoded data removed]",
      "text/plain": [
       "<Figure size 1296x216 with 3 Axes>"
      ]
     },
     "metadata": {
      "needs_background": "light"
     },
     "output_type": "display_data"
    }
   ],
   "source": [
    "visualization(im_trig, segments, mu_n, s_n)"
   ]
  },
  {
   "cell_type": "code",
   "execution_count": 25,
   "metadata": {},
   "outputs": [
    {
     "data": {
      "text/plain": [
       "array([9])"
      ]
     },
     "execution_count": 25,
     "metadata": {},
     "output_type": "execute_result"
    }
   ],
   "source": [
    "predict_image_class_output(np.reshape(im_no_trig, (1, 28, 28, 1)), model_badnet)"
   ]
  },
  {
   "cell_type": "code",
   "execution_count": 26,
   "metadata": {},
   "outputs": [
    {
     "data": {
      "text/plain": [
       "array([0])"
      ]
     },
     "execution_count": 26,
     "metadata": {},
     "output_type": "execute_result"
    }
   ],
   "source": [
    "predict_image_class_output(np.reshape(im_trig, (1, 28, 28, 1)), model_badnet)"
   ]
  },
  {
   "cell_type": "code",
   "execution_count": 27,
   "metadata": {},
   "outputs": [
    {
     "data": {
      "text/plain": [
       "(28, 28)"
      ]
     },
     "execution_count": 27,
     "metadata": {},
     "output_type": "execute_result"
    }
   ],
   "source": [
    "im_trig.shape"
   ]
  },
  {
   "cell_type": "code",
   "execution_count": 28,
   "metadata": {},
   "outputs": [
    {
     "data": {
      "text/plain": [
       "(28, 28)"
      ]
     },
     "execution_count": 28,
     "metadata": {},
     "output_type": "execute_result"
    }
   ],
   "source": [
    "segments.shape"
   ]
  },
  {
   "cell_type": "code",
   "execution_count": 29,
   "metadata": {},
   "outputs": [],
   "source": [
    "im_pert, seg_idx_one_hot = choose_segments(im_trig, segments)"
   ]
  },
  {
   "cell_type": "code",
   "execution_count": 30,
   "metadata": {},
   "outputs": [
    {
     "data": {
      "text/plain": [
       "<matplotlib.image.AxesImage at 0x7f8798dd27d0>"
      ]
     },
     "execution_count": 30,
     "metadata": {},
     "output_type": "execute_result"
    },
    {
     "data": {
      "image/png": "[encoded data removed]",
      "text/plain": [
       "<Figure size 432x288 with 1 Axes>"
      ]
     },
     "metadata": {
      "needs_background": "light"
     },
     "output_type": "display_data"
    }
   ],
   "source": [
    "plt.imshow(im_pert)"
   ]
  },
  {
   "cell_type": "code",
   "execution_count": 31,
   "metadata": {},
   "outputs": [
    {
     "data": {
      "text/plain": [
       "6.0"
      ]
     },
     "execution_count": 31,
     "metadata": {},
     "output_type": "execute_result"
    }
   ],
   "source": [
    "seg_idx_one_hot.sum()"
   ]
  },
  {
   "cell_type": "code",
   "execution_count": 41,
   "metadata": {},
   "outputs": [
    {
     "data": {
      "text/plain": [
       "<matplotlib.image.AxesImage at 0x7f87905bf790>"
      ]
     },
     "execution_count": 41,
     "metadata": {},
     "output_type": "execute_result"
    },
    {
     "data": {
      "image/png": "[encoded data removed]",
      "text/plain": [
       "<Figure size 432x288 with 1 Axes>"
      ]
     },
     "metadata": {
      "needs_background": "light"
     },
     "output_type": "display_data"
    }
   ],
   "source": [
    "plt.imshow(segments)"
   ]
  },
  {
   "cell_type": "code",
   "execution_count": 34,
   "metadata": {},
   "outputs": [],
   "source": [
    "im_pert, seg_idx_one_hot = choose_segments(im_trig, segments)"
   ]
  },
  {
   "cell_type": "code",
   "execution_count": 113,
   "metadata": {},
   "outputs": [],
   "source": [
    "def choose_segments(im, segments):\n",
    "    \"\"\"\n",
    "    take a segmented image and turn off a subset of segments\n",
    "\n",
    "    arguments:\n",
    "        image: original image (28, 28)\n",
    "        segments: interger mask\n",
    "        \n",
    "    returns:\n",
    "        im_pert: perturbed image (28, 28)\n",
    "        seg_idx_one_hot\n",
    "    \"\"\"\n",
    "\n",
    "    num_seg = len(np.unique(segments))  # total number of segments\n",
    "    seg_idx = np.where(np.random.choice((0, 1), size=num_seg))[0] # array of segments to turn off\n",
    "\n",
    "    #return seg_idx\n",
    "    \n",
    "    mask_1D = np.ones(im.shape[0:2], dtype=bool)\n",
    "    for seg in seg_idx:\n",
    "        mask_1D[segments == seg] = False\n",
    "\n",
    "    im_pert = np.multiply(im, mask_1D)\n",
    "\n",
    "    seg_idx_one_hot = np.zeros(num_seg)\n",
    "    seg_idx_one_hot[seg_idx] = 1\n",
    "    return im_pert, seg_idx_one_hot"
   ]
  },
  {
   "cell_type": "code",
   "execution_count": 38,
   "metadata": {},
   "outputs": [
    {
     "data": {
      "text/plain": [
       "(28, 28)"
      ]
     },
     "execution_count": 38,
     "metadata": {},
     "output_type": "execute_result"
    }
   ],
   "source": [
    "im_trig.shape"
   ]
  },
  {
   "cell_type": "code",
   "execution_count": 39,
   "metadata": {},
   "outputs": [
    {
     "data": {
      "text/plain": [
       "(28, 28)"
      ]
     },
     "execution_count": 39,
     "metadata": {},
     "output_type": "execute_result"
    }
   ],
   "source": [
    "segments.shape"
   ]
  },
  {
   "cell_type": "code",
   "execution_count": 40,
   "metadata": {},
   "outputs": [
    {
     "data": {
      "text/plain": [
       "array([ 1,  2,  3,  4,  5,  6,  7,  8,  9, 10, 11, 12, 13, 14, 15, 16],\n",
       "      dtype=int32)"
      ]
     },
     "execution_count": 40,
     "metadata": {},
     "output_type": "execute_result"
    }
   ],
   "source": [
    "np.unique(segments)"
   ]
  },
  {
   "cell_type": "code",
   "execution_count": 89,
   "metadata": {},
   "outputs": [
    {
     "data": {
      "text/plain": [
       "array([ 0,  1,  2,  3,  5,  7,  8, 15])"
      ]
     },
     "execution_count": 89,
     "metadata": {},
     "output_type": "execute_result"
    }
   ],
   "source": [
    "choose_segments(im_trig, segments)"
   ]
  },
  {
   "cell_type": "code",
   "execution_count": 90,
   "metadata": {},
   "outputs": [],
   "source": [
    "num_seg = len(np.unique(segments))  # total number of segments"
   ]
  },
  {
   "cell_type": "code",
   "execution_count": 92,
   "metadata": {},
   "outputs": [
    {
     "data": {
      "text/plain": [
       "16"
      ]
     },
     "execution_count": 92,
     "metadata": {},
     "output_type": "execute_result"
    }
   ],
   "source": [
    "num_seg"
   ]
  },
  {
   "cell_type": "code",
   "execution_count": 112,
   "metadata": {},
   "outputs": [
    {
     "data": {
      "text/plain": [
       "array([1, 1, 1, 1, 0, 1, 1, 0, 1, 0, 1, 0, 0, 1, 0, 1])"
      ]
     },
     "execution_count": 112,
     "metadata": {},
     "output_type": "execute_result"
    }
   ],
   "source": [
    "np.random.choice((0, 1), size=num_seg)"
   ]
  },
  {
   "cell_type": "code",
   "execution_count": null,
   "metadata": {},
   "outputs": [],
   "source": [
    "np.where("
   ]
  },
  {
   "cell_type": "code",
   "execution_count": null,
   "metadata": {},
   "outputs": [],
   "source": [
    "seg_idx = np.where(np.random.choice((0, 1), size=num_seg))[0]"
   ]
  },
  {
   "cell_type": "code",
   "execution_count": 154,
   "metadata": {},
   "outputs": [],
   "source": [
    "def choose_segments(im, segments):\n",
    "    \"\"\"\n",
    "    take a segmented image and turn off a subset of segments\n",
    "\n",
    "    arguments:\n",
    "        image: original image (28, 28)\n",
    "        segments: interger mask (28, 28)\n",
    "        \n",
    "    returns:\n",
    "        im_pert: perturbed image (28, 28)\n",
    "        seg_idx_one_hot\n",
    "    \"\"\"\n",
    "\n",
    "    num_seg = len(np.unique(segments))  # total number of segments\n",
    "    seg_bool = np.random.choice((0, 1), size=num_seg)  # randomly choose 0 (turn off) or 1 (turn on) for each pixel with p=0.5\n",
    "    seg_idx = np.where(seg_bool)[0] + 1 # array of segment indices to turn off\n",
    "    \n",
    "    mask_1D = np.zeros(im.shape[0:2], dtype=bool)\n",
    "    for seg in seg_idx:\n",
    "        mask_1D[segments == seg] = True\n",
    "\n",
    "    im_pert = np.multiply(im, mask_1D)  # multiply the binary mask with the original image\n",
    "\n",
    "    return im_pert, seg_bool"
   ]
  },
  {
   "cell_type": "code",
   "execution_count": 155,
   "metadata": {},
   "outputs": [
    {
     "data": {
      "text/plain": [
       "array([0, 1, 1, 0, 1, 0, 0, 0, 0, 0, 0, 1, 1, 1, 0, 1])"
      ]
     },
     "execution_count": 155,
     "metadata": {},
     "output_type": "execute_result"
    }
   ],
   "source": [
    "_, tmp = choose_segments(im_trig, segments)\n",
    "tmp"
   ]
  },
  {
   "cell_type": "code",
   "execution_count": 157,
   "metadata": {},
   "outputs": [
    {
     "data": {
      "text/plain": [
       "array([ 2,  3,  5, 12, 13, 14, 16])"
      ]
     },
     "execution_count": 157,
     "metadata": {},
     "output_type": "execute_result"
    }
   ],
   "source": [
    "np.where(tmp)[0] + 1"
   ]
  },
  {
   "cell_type": "code",
   "execution_count": 160,
   "metadata": {},
   "outputs": [
    {
     "data": {
      "text/plain": [
       "<matplotlib.image.AxesImage at 0x7f8790597610>"
      ]
     },
     "execution_count": 160,
     "metadata": {},
     "output_type": "execute_result"
    },
    {
     "data": {
      "image/png": "[encoded data removed]",
      "text/plain": [
       "<Figure size 432x288 with 1 Axes>"
      ]
     },
     "metadata": {
      "needs_background": "light"
     },
     "output_type": "display_data"
    }
   ],
   "source": [
    "plt.imshow(im_pert, cmap='gray')"
   ]
  },
  {
   "cell_type": "code",
   "execution_count": 180,
   "metadata": {},
   "outputs": [
    {
     "data": {
      "text/plain": [
       "<matplotlib.image.AxesImage at 0x7f87a035df10>"
      ]
     },
     "execution_count": 180,
     "metadata": {},
     "output_type": "execute_result"
    },
    {
     "data": {
      "image/png": "[encoded data removed]",
      "text/plain": [
       "<Figure size 432x288 with 1 Axes>"
      ]
     },
     "metadata": {
      "needs_background": "light"
     },
     "output_type": "display_data"
    }
   ],
   "source": [
    "im_pert, _ = choose_segments(im_trig, segments)\n",
    "plt.imshow(im_pert, cmap='gray')"
   ]
  },
  {
   "cell_type": "code",
   "execution_count": 181,
   "metadata": {},
   "outputs": [
    {
     "data": {
      "text/plain": [
       "(60000, 28, 28, 1)"
      ]
     },
     "execution_count": 181,
     "metadata": {},
     "output_type": "execute_result"
    }
   ],
   "source": [
    "x_train.shape"
   ]
  }
 ],
 "metadata": {
  "deepnote": {
   "is_reactive": false
  },
  "deepnote_execution_queue": [],
  "deepnote_notebook_id": "8532a5bf-638f-4e82-a00e-713df85ca8a5",
  "kernelspec": {
   "display_name": "Python 3 (ipykernel)",
   "language": "python",
   "name": "python3"
  },
  "language_info": {
   "codemirror_mode": {
    "name": "ipython",
    "version": 3
   },
   "file_extension": ".py",
   "mimetype": "text/x-python",
   "name": "python",
   "nbconvert_exporter": "python",
   "pygments_lexer": "ipython3",
   "version": "3.7.10"
  }
 },
 "nbformat": 4,
 "nbformat_minor": 4
}
