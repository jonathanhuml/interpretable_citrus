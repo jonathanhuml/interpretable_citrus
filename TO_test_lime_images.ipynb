{
 "cells": [
  {
   "cell_type": "code",
   "execution_count": null,
   "id": "14d36d2c-707f-4629-bf03-abf020f652c9",
   "metadata": {},
   "outputs": [],
   "source": [
    "# testing BayLIME on images\n",
    "# based on https://github.com/x-y-zhao/BayLime/blob/master/BayLIME_tutorial_images.ipynb\n",
    "# Tatsuo Okubo\n",
    "# 2021/11/06"
   ]
  },
  {
   "cell_type": "code",
   "execution_count": 2,
   "id": "83e0514d-851b-4d49-807d-f741506ac7ad",
   "metadata": {},
   "outputs": [],
   "source": [
    "from BayLime.lime import lime_image"
   ]
  },
  {
   "cell_type": "code",
   "execution_count": 3,
   "id": "3ae4d7da-4e15-4d10-9180-6623e2bb40bc",
   "metadata": {},
   "outputs": [],
   "source": [
    "import os\n",
    "import matplotlib.pyplot as plt\n",
    "import numpy as np\n",
    "from skimage.io import imread\n",
    "from skimage.segmentation import mark_boundaries\n",
    "from skimage.util import img_as_ubyte\n",
    "import tensorflow as tf\n",
    "from tensorflow import keras"
   ]
  },
  {
   "cell_type": "code",
   "execution_count": 4,
   "id": "6189885a-159f-49c0-be8d-e73608d63d0a",
   "metadata": {},
   "outputs": [],
   "source": [
    "from tensorflow.keras.applications.inception_v3 import preprocess_input, decode_predictions\n",
    "from tensorflow.keras.preprocessing import image"
   ]
  },
  {
   "cell_type": "code",
   "execution_count": 5,
   "id": "368b022d-1894-4dfa-9073-b1bfa5c7e3e6",
   "metadata": {},
   "outputs": [
    {
     "data": {
      "text/plain": [
       "'2.4.1'"
      ]
     },
     "execution_count": 5,
     "metadata": {},
     "output_type": "execute_result"
    }
   ],
   "source": [
    "tf.__version__"
   ]
  },
  {
   "cell_type": "code",
   "execution_count": null,
   "id": "f5cf52b8-74f3-4315-a8a8-f803ee44a504",
   "metadata": {},
   "outputs": [],
   "source": [
    "keras.__version__"
   ]
  },
  {
   "cell_type": "code",
   "execution_count": null,
   "id": "153cf741-bde8-496d-914d-a8e54538b6fd",
   "metadata": {},
   "outputs": [],
   "source": [
    "inet_model = tf.keras.applications.InceptionV3(weights=\"imagenet\")  # load weights from a model pre-trained on ImageNet"
   ]
  },
  {
   "cell_type": "code",
   "execution_count": null,
   "id": "15552941-2768-4295-990d-d97dde4da32f",
   "metadata": {},
   "outputs": [],
   "source": [
    "def transform_img_fn(path_list):\n",
    "    out = []\n",
    "    for img_path in path_list:\n",
    "        img = image.load_img(img_path, target_size=(299, 299))\n",
    "        x = image.img_to_array(img)\n",
    "        x = np.expand_dims(x, axis=0)\n",
    "        x = preprocess_input(x)\n",
    "        out.append(x)\n",
    "    return np.vstack(out)"
   ]
  },
  {
   "cell_type": "code",
   "execution_count": null,
   "id": "3ef6ba9c-cef4-4bcd-848c-316cb8576040",
   "metadata": {},
   "outputs": [],
   "source": [
    "images = transform_img_fn([os.path.join('..', 'BayLime', 'data','dogs.jpg')])\n",
    "plt.imshow(images[0] / 2 + 0.5)\n",
    "plt.show()\n",
    "preds = inet_model.predict(images)\n",
    "for x in decode_predictions(preds)[0]:\n",
    "    print(x)"
   ]
  },
  {
   "cell_type": "code",
   "execution_count": null,
   "id": "73253760-e5b3-494e-b809-a31abb661e48",
   "metadata": {},
   "outputs": [],
   "source": [
    "images = transform_img_fn([os.path.join('..', 'BayLime', 'data','5.jpg')])\n",
    "plt.imshow(images[0] / 2 + 0.5)\n",
    "plt.show()\n",
    "preds = inet_model.predict(images)\n",
    "for x in decode_predictions(preds)[0]:\n",
    "    print(x)"
   ]
  },
  {
   "cell_type": "code",
   "execution_count": null,
   "id": "bf20aaf4-bade-4d01-b4fc-31c833c04d31",
   "metadata": {},
   "outputs": [],
   "source": [
    "images = transform_img_fn([os.path.join('..', 'BayLime', 'data','throne.jpg')])\n",
    "plt.imshow(images[0] / 2 + 0.5)\n",
    "plt.show()\n",
    "preds = inet_model.predict(images)\n",
    "for x in decode_predictions(preds)[0]:\n",
    "    print(x)"
   ]
  },
  {
   "cell_type": "code",
   "execution_count": null,
   "id": "aead62bc-4035-4a28-838c-a3d7b8616327",
   "metadata": {},
   "outputs": [],
   "source": [
    "images = transform_img_fn([os.path.join('..', 'BayLime', 'data','eagle_sheep.jpg')])\n",
    "plt.imshow(images[0] / 2 + 0.5)\n",
    "plt.show()\n",
    "preds = inet_model.predict(images)\n",
    "for x in decode_predictions(preds)[0]:\n",
    "    print(x)"
   ]
  },
  {
   "cell_type": "code",
   "execution_count": null,
   "id": "bcfaa169-952f-43e2-a0a0-b3157edc81f8",
   "metadata": {},
   "outputs": [],
   "source": [
    "preds[0].shape"
   ]
  },
  {
   "cell_type": "code",
   "execution_count": null,
   "id": "c2dab3e1-2d30-4fc7-a01f-29089ca907d9",
   "metadata": {},
   "outputs": [],
   "source": [
    "# make sure to convert float to double\n",
    "image_uint = img_as_ubyte(images)\n",
    "image_uint.dtype"
   ]
  },
  {
   "cell_type": "code",
   "execution_count": null,
   "id": "e2868bf6-ac29-4e99-8c02-3c7e825a4013",
   "metadata": {},
   "outputs": [],
   "source": [
    "def predict_fn(images):\n",
    "    return session.run(probabilities, feed_dict={processed_images: images})"
   ]
  },
  {
   "cell_type": "code",
   "execution_count": null,
   "id": "e2c08673-8416-4aea-9fa2-7cacb5dc91e3",
   "metadata": {},
   "outputs": [],
   "source": [
    "explainer = lime_image.LimeImageExplainer(feature_selection='none')#kernel_width=0.1\n",
    "explanation = explainer.explain_instance(image_uint[0], inet_model.predict,\n",
    "                                         top_labels=3, hide_color=0, batch_size=10,\n",
    "                                         num_samples=200, model_regressor='non_Bay')"
   ]
  },
  {
   "cell_type": "code",
   "execution_count": null,
   "id": "cebc8f45-3f01-497c-828f-b3a1b8834174",
   "metadata": {},
   "outputs": [],
   "source": [
    "# original LIME\n",
    "from lime import lime_image\n",
    "explainer = lime_image.LimeImageExplainer()\n",
    "explanation = explainer.explain_instance(image_uint, predict_fn, top_labels=5, hide_color=0, num_samples=1000)"
   ]
  }
 ],
 "metadata": {
  "kernelspec": {
   "display_name": "Python 3 (ipykernel)",
   "language": "python",
   "name": "python3"
  },
  "language_info": {
   "codemirror_mode": {
    "name": "ipython",
    "version": 3
   },
   "file_extension": ".py",
   "mimetype": "text/x-python",
   "name": "python",
   "nbconvert_exporter": "python",
   "pygments_lexer": "ipython3",
   "version": "3.7.10"
  }
 },
 "nbformat": 4,
 "nbformat_minor": 5
}
